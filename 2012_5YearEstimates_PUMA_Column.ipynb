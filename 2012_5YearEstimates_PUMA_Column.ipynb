{
 "cells": [
  {
   "cell_type": "markdown",
   "id": "0a219516",
   "metadata": {},
   "source": [
    "We got an email from [edsci.feedback@census.gov] that told us we can find 2000 and 2010 PUMAs as column in the 2008-2012 5 year estimates. This notebook will try this approach for PUMA 4001"
   ]
  },
  {
   "cell_type": "code",
   "execution_count": 2,
   "id": "24ee54d1",
   "metadata": {},
   "outputs": [],
   "source": [
    "from ingest.PUMS_request import make_GET_request\n",
    "url_2000_PUMAs = 'https://api.census.gov/data/2012/acs/acs5/pums?get=SERIALNO,SPORDER,PWGTP&PUMA00=4001&ucgid=0400000US36'\n",
    "PUMS_2000_PUMAs = make_GET_request(url_2000_PUMAs, 'test PUMA00 column')"
   ]
  },
  {
   "cell_type": "code",
   "execution_count": 10,
   "id": "3ed248d7",
   "metadata": {},
   "outputs": [
    {
     "data": {
      "text/plain": [
       "113734"
      ]
     },
     "execution_count": 10,
     "metadata": {},
     "output_type": "execute_result"
    }
   ],
   "source": [
    "PUMS_2000_PUMAs['PWGTP'] = PUMS_2000_PUMAs['PWGTP'].astype(int)\n",
    "old_geos_count = PUMS_2000_PUMAs['PWGTP'].sum()\n",
    "old_geos_count"
   ]
  },
  {
   "cell_type": "markdown",
   "id": "366dad45",
   "metadata": {},
   "source": [
    "Around 114k people from 2012 5-year estimates in NYS have PUMA00 of 4001 "
   ]
  },
  {
   "cell_type": "code",
   "execution_count": 7,
   "id": "70893c4a",
   "metadata": {},
   "outputs": [],
   "source": [
    "url_2010_PUMAs = 'https://api.census.gov/data/2012/acs/acs5/pums?get=SERIALNO,SPORDER,PWGTP&PUMA10=4001&ucgid=0400000US36'\n",
    "PUMS_2010_PUMAs = make_GET_request(url_2010_PUMAs, 'test PUMA10 column')"
   ]
  },
  {
   "cell_type": "code",
   "execution_count": 11,
   "id": "b4d60cd2",
   "metadata": {},
   "outputs": [
    {
     "data": {
      "text/plain": [
       "29825"
      ]
     },
     "execution_count": 11,
     "metadata": {},
     "output_type": "execute_result"
    }
   ],
   "source": [
    "PUMS_2010_PUMAs['PWGTP'] = PUMS_2010_PUMAs['PWGTP'].astype(int)\n",
    "new_geos_count = PUMS_2010_PUMAs['PWGTP'].sum()\n",
    "new_geos_count\n"
   ]
  },
  {
   "cell_type": "markdown",
   "id": "16831061",
   "metadata": {},
   "source": [
    "Around 30k people from 2012 5-year estimates in NYS have PUMA10 of 4001\n",
    "\n",
    "I would assume that 1/5th of all records in 2012 5-year estimates come from 2012, does this hold up?"
   ]
  },
  {
   "cell_type": "code",
   "execution_count": 13,
   "id": "a072bda9",
   "metadata": {},
   "outputs": [
    {
     "data": {
      "text/plain": [
       "0.20775430310882634"
      ]
     },
     "execution_count": 13,
     "metadata": {},
     "output_type": "execute_result"
    }
   ],
   "source": [
    "new_geos_count/(old_geos_count+new_geos_count)"
   ]
  },
  {
   "cell_type": "markdown",
   "id": "5a36eb46",
   "metadata": {},
   "source": [
    "Yea looks good\n",
    "\n",
    "Next compare to 2015-2019 5 year estimates "
   ]
  },
  {
   "cell_type": "code",
   "execution_count": 14,
   "id": "a6747757",
   "metadata": {},
   "outputs": [],
   "source": [
    "url_2019_PUMAs = 'https://api.census.gov/data/2019/acs/acs5/pums?get=SERIALNO,SPORDER,PWGTP&ucgid=7950000US3604001'\n",
    "PUMS_2019_PUMAs = make_GET_request(url_2019_PUMAs, 'use existing query for comparison')\n",
    "PUMS_2019_PUMAs['PWGTP'] = PUMS_2019_PUMAs['PWGTP'].astype(int)"
   ]
  },
  {
   "cell_type": "code",
   "execution_count": 17,
   "id": "c4af8d83",
   "metadata": {},
   "outputs": [
    {
     "name": "stdout",
     "output_type": "stream",
     "text": [
      "records in 2019 5-year estimates PUMA 4001 162630\n",
      "records in 2012 5-year estimates PUMA 4001 143559\n",
      "13.3 % increase 2012-2019\n"
     ]
    }
   ],
   "source": [
    "estimates_2012_total= old_geos_count+new_geos_count\n",
    "print(f'records in 2019 5-year estimates PUMA 4001 {PUMS_2019_PUMAs[\"PWGTP\"].sum()}')\n",
    "print(f'records in 2012 5-year estimates PUMA 4001 {estimates_2012_total}')\n",
    "print(f'{round((PUMS_2019_PUMAs[\"PWGTP\"].sum()-estimates_2012_total)/(estimates_2012_total), 3)*100} % increase 2012-2019')"
   ]
  },
  {
   "cell_type": "markdown",
   "id": "3e049260",
   "metadata": {},
   "source": [
    "Close enough to pass smell test to me."
   ]
  }
 ],
 "metadata": {
  "kernelspec": {
   "display_name": "Python 3 (ipykernel)",
   "language": "python",
   "name": "python3"
  },
  "language_info": {
   "codemirror_mode": {
    "name": "ipython",
    "version": 3
   },
   "file_extension": ".py",
   "mimetype": "text/x-python",
   "name": "python",
   "nbconvert_exporter": "python",
   "pygments_lexer": "ipython3",
   "version": "3.9.7"
  }
 },
 "nbformat": 4,
 "nbformat_minor": 5
}
