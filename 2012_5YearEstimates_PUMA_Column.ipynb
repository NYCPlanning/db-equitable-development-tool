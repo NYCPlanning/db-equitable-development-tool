{
 "cells": [
  {
   "cell_type": "markdown",
   "id": "0a219516",
   "metadata": {},
   "source": [
    "We got an email from [edsci.feedback@census.gov] that told us we can find 2000 and 2010 PUMAs as column in the 2008-2012 5 year estimates. This notebook will try this approach for PUMA 4001"
   ]
  },
  {
   "cell_type": "code",
   "execution_count": 2,
   "id": "24ee54d1",
   "metadata": {},
   "outputs": [],
   "source": [
    "from ingest.PUMS_request import make_GET_request\n",
    "url_2000_PUMAs = 'https://api.census.gov/data/2012/acs/acs5/pums?get=SERIALNO,SPORDER,PWGTP&PUMA00=4001&ucgid=0400000US36'\n",
    "PUMS_2000_PUMAs = make_GET_request(url_2000_PUMAs, 'test PUMA00 column')"
   ]
  },
  {
   "cell_type": "code",
   "execution_count": 3,
   "id": "3ed248d7",
   "metadata": {},
   "outputs": [
    {
     "data": {
      "text/html": [
       "<div>\n",
       "<style scoped>\n",
       "    .dataframe tbody tr th:only-of-type {\n",
       "        vertical-align: middle;\n",
       "    }\n",
       "\n",
       "    .dataframe tbody tr th {\n",
       "        vertical-align: top;\n",
       "    }\n",
       "\n",
       "    .dataframe thead th {\n",
       "        text-align: right;\n",
       "    }\n",
       "</style>\n",
       "<table border=\"1\" class=\"dataframe\">\n",
       "  <thead>\n",
       "    <tr style=\"text-align: right;\">\n",
       "      <th></th>\n",
       "      <th>SERIALNO</th>\n",
       "      <th>SPORDER</th>\n",
       "      <th>PWGTP</th>\n",
       "      <th>PUMA00</th>\n",
       "      <th>ST</th>\n",
       "    </tr>\n",
       "  </thead>\n",
       "  <tbody>\n",
       "    <tr>\n",
       "      <th>0</th>\n",
       "      <td>2008000003546</td>\n",
       "      <td>1</td>\n",
       "      <td>25</td>\n",
       "      <td>4001</td>\n",
       "      <td>36</td>\n",
       "    </tr>\n",
       "    <tr>\n",
       "      <th>1</th>\n",
       "      <td>2008000003546</td>\n",
       "      <td>2</td>\n",
       "      <td>35</td>\n",
       "      <td>4001</td>\n",
       "      <td>36</td>\n",
       "    </tr>\n",
       "    <tr>\n",
       "      <th>2</th>\n",
       "      <td>2008000005548</td>\n",
       "      <td>1</td>\n",
       "      <td>21</td>\n",
       "      <td>4001</td>\n",
       "      <td>36</td>\n",
       "    </tr>\n",
       "    <tr>\n",
       "      <th>3</th>\n",
       "      <td>2008000005548</td>\n",
       "      <td>2</td>\n",
       "      <td>24</td>\n",
       "      <td>4001</td>\n",
       "      <td>36</td>\n",
       "    </tr>\n",
       "    <tr>\n",
       "      <th>4</th>\n",
       "      <td>2008000005548</td>\n",
       "      <td>3</td>\n",
       "      <td>22</td>\n",
       "      <td>4001</td>\n",
       "      <td>36</td>\n",
       "    </tr>\n",
       "    <tr>\n",
       "      <th>...</th>\n",
       "      <td>...</td>\n",
       "      <td>...</td>\n",
       "      <td>...</td>\n",
       "      <td>...</td>\n",
       "      <td>...</td>\n",
       "    </tr>\n",
       "    <tr>\n",
       "      <th>5053</th>\n",
       "      <td>2011001494106</td>\n",
       "      <td>2</td>\n",
       "      <td>7</td>\n",
       "      <td>4001</td>\n",
       "      <td>36</td>\n",
       "    </tr>\n",
       "    <tr>\n",
       "      <th>5054</th>\n",
       "      <td>2011001494106</td>\n",
       "      <td>3</td>\n",
       "      <td>6</td>\n",
       "      <td>4001</td>\n",
       "      <td>36</td>\n",
       "    </tr>\n",
       "    <tr>\n",
       "      <th>5055</th>\n",
       "      <td>2011001494106</td>\n",
       "      <td>4</td>\n",
       "      <td>6</td>\n",
       "      <td>4001</td>\n",
       "      <td>36</td>\n",
       "    </tr>\n",
       "    <tr>\n",
       "      <th>5056</th>\n",
       "      <td>2011001494106</td>\n",
       "      <td>5</td>\n",
       "      <td>7</td>\n",
       "      <td>4001</td>\n",
       "      <td>36</td>\n",
       "    </tr>\n",
       "    <tr>\n",
       "      <th>5057</th>\n",
       "      <td>2011001494106</td>\n",
       "      <td>6</td>\n",
       "      <td>8</td>\n",
       "      <td>4001</td>\n",
       "      <td>36</td>\n",
       "    </tr>\n",
       "  </tbody>\n",
       "</table>\n",
       "<p>5058 rows × 5 columns</p>\n",
       "</div>"
      ],
      "text/plain": [
       "           SERIALNO SPORDER PWGTP PUMA00  ST\n",
       "0     2008000003546       1    25   4001  36\n",
       "1     2008000003546       2    35   4001  36\n",
       "2     2008000005548       1    21   4001  36\n",
       "3     2008000005548       2    24   4001  36\n",
       "4     2008000005548       3    22   4001  36\n",
       "...             ...     ...   ...    ...  ..\n",
       "5053  2011001494106       2     7   4001  36\n",
       "5054  2011001494106       3     6   4001  36\n",
       "5055  2011001494106       4     6   4001  36\n",
       "5056  2011001494106       5     7   4001  36\n",
       "5057  2011001494106       6     8   4001  36\n",
       "\n",
       "[5058 rows x 5 columns]"
      ]
     },
     "execution_count": 3,
     "metadata": {},
     "output_type": "execute_result"
    }
   ],
   "source": [
    "PUMS_2000_PUMAs"
   ]
  },
  {
   "cell_type": "markdown",
   "id": "366dad45",
   "metadata": {},
   "source": [
    "Around 5k records from 2012 5-year estimates in NYS have PUMA00 of 4001 "
   ]
  },
  {
   "cell_type": "code",
   "execution_count": 4,
   "id": "70893c4a",
   "metadata": {},
   "outputs": [],
   "source": [
    "url_2010_PUMAs = 'https://api.census.gov/data/2012/acs/acs5/pums?get=SERIALNO,SPORDER,PWGTP&PUMA10=4001&ucgid=0400000US36'\n",
    "PUMS_2010_PUMAs = make_GET_request(url_2010_PUMAs, 'test PUMA10 column')"
   ]
  },
  {
   "cell_type": "code",
   "execution_count": 5,
   "id": "b4d60cd2",
   "metadata": {},
   "outputs": [
    {
     "data": {
      "text/html": [
       "<div>\n",
       "<style scoped>\n",
       "    .dataframe tbody tr th:only-of-type {\n",
       "        vertical-align: middle;\n",
       "    }\n",
       "\n",
       "    .dataframe tbody tr th {\n",
       "        vertical-align: top;\n",
       "    }\n",
       "\n",
       "    .dataframe thead th {\n",
       "        text-align: right;\n",
       "    }\n",
       "</style>\n",
       "<table border=\"1\" class=\"dataframe\">\n",
       "  <thead>\n",
       "    <tr style=\"text-align: right;\">\n",
       "      <th></th>\n",
       "      <th>SERIALNO</th>\n",
       "      <th>SPORDER</th>\n",
       "      <th>PWGTP</th>\n",
       "      <th>PUMA10</th>\n",
       "      <th>ST</th>\n",
       "    </tr>\n",
       "  </thead>\n",
       "  <tbody>\n",
       "    <tr>\n",
       "      <th>0</th>\n",
       "      <td>2012000000776</td>\n",
       "      <td>1</td>\n",
       "      <td>24</td>\n",
       "      <td>4001</td>\n",
       "      <td>36</td>\n",
       "    </tr>\n",
       "    <tr>\n",
       "      <th>1</th>\n",
       "      <td>2012000010336</td>\n",
       "      <td>1</td>\n",
       "      <td>25</td>\n",
       "      <td>4001</td>\n",
       "      <td>36</td>\n",
       "    </tr>\n",
       "    <tr>\n",
       "      <th>2</th>\n",
       "      <td>2012000012721</td>\n",
       "      <td>1</td>\n",
       "      <td>18</td>\n",
       "      <td>4001</td>\n",
       "      <td>36</td>\n",
       "    </tr>\n",
       "    <tr>\n",
       "      <th>3</th>\n",
       "      <td>2012000012721</td>\n",
       "      <td>2</td>\n",
       "      <td>23</td>\n",
       "      <td>4001</td>\n",
       "      <td>36</td>\n",
       "    </tr>\n",
       "    <tr>\n",
       "      <th>4</th>\n",
       "      <td>2012000012721</td>\n",
       "      <td>3</td>\n",
       "      <td>23</td>\n",
       "      <td>4001</td>\n",
       "      <td>36</td>\n",
       "    </tr>\n",
       "    <tr>\n",
       "      <th>...</th>\n",
       "      <td>...</td>\n",
       "      <td>...</td>\n",
       "      <td>...</td>\n",
       "      <td>...</td>\n",
       "      <td>...</td>\n",
       "    </tr>\n",
       "    <tr>\n",
       "      <th>1385</th>\n",
       "      <td>2012001441441</td>\n",
       "      <td>2</td>\n",
       "      <td>10</td>\n",
       "      <td>4001</td>\n",
       "      <td>36</td>\n",
       "    </tr>\n",
       "    <tr>\n",
       "      <th>1386</th>\n",
       "      <td>2012001444584</td>\n",
       "      <td>1</td>\n",
       "      <td>55</td>\n",
       "      <td>4001</td>\n",
       "      <td>36</td>\n",
       "    </tr>\n",
       "    <tr>\n",
       "      <th>1387</th>\n",
       "      <td>2012001461527</td>\n",
       "      <td>1</td>\n",
       "      <td>43</td>\n",
       "      <td>4001</td>\n",
       "      <td>36</td>\n",
       "    </tr>\n",
       "    <tr>\n",
       "      <th>1388</th>\n",
       "      <td>2012001491471</td>\n",
       "      <td>1</td>\n",
       "      <td>10</td>\n",
       "      <td>4001</td>\n",
       "      <td>36</td>\n",
       "    </tr>\n",
       "    <tr>\n",
       "      <th>1389</th>\n",
       "      <td>2012001491471</td>\n",
       "      <td>2</td>\n",
       "      <td>10</td>\n",
       "      <td>4001</td>\n",
       "      <td>36</td>\n",
       "    </tr>\n",
       "  </tbody>\n",
       "</table>\n",
       "<p>1390 rows × 5 columns</p>\n",
       "</div>"
      ],
      "text/plain": [
       "           SERIALNO SPORDER PWGTP PUMA10  ST\n",
       "0     2012000000776       1    24   4001  36\n",
       "1     2012000010336       1    25   4001  36\n",
       "2     2012000012721       1    18   4001  36\n",
       "3     2012000012721       2    23   4001  36\n",
       "4     2012000012721       3    23   4001  36\n",
       "...             ...     ...   ...    ...  ..\n",
       "1385  2012001441441       2    10   4001  36\n",
       "1386  2012001444584       1    55   4001  36\n",
       "1387  2012001461527       1    43   4001  36\n",
       "1388  2012001491471       1    10   4001  36\n",
       "1389  2012001491471       2    10   4001  36\n",
       "\n",
       "[1390 rows x 5 columns]"
      ]
     },
     "execution_count": 5,
     "metadata": {},
     "output_type": "execute_result"
    }
   ],
   "source": [
    "PUMS_2010_PUMAs"
   ]
  },
  {
   "cell_type": "markdown",
   "id": "16831061",
   "metadata": {},
   "source": [
    "Around 1.4k records from 2012 5-year estimates in NYS have PUMA10 of 4001\n",
    "\n",
    "I would assume that 1/5th of all records in 2012 5-year estimates come from 2012, does this hold up?"
   ]
  },
  {
   "cell_type": "code",
   "execution_count": 6,
   "id": "a072bda9",
   "metadata": {},
   "outputs": [
    {
     "data": {
      "text/plain": [
       "0.2748121787267695"
      ]
     },
     "execution_count": 6,
     "metadata": {},
     "output_type": "execute_result"
    }
   ],
   "source": [
    "PUMS_2010_PUMAs.shape[0]/PUMS_2000_PUMAs.shape[0]"
   ]
  },
  {
   "cell_type": "markdown",
   "id": "5a36eb46",
   "metadata": {},
   "source": [
    "More than 1/5th but somewhat close. \n",
    "\n",
    "Next compare to 2015-2019 5 year estimates "
   ]
  },
  {
   "cell_type": "code",
   "execution_count": 7,
   "id": "a6747757",
   "metadata": {},
   "outputs": [],
   "source": [
    "url_2019_PUMAs = 'https://api.census.gov/data/2019/acs/acs5/pums?get=SERIALNO,SPORDER,PWGTP&ucgid=7950000US3604001'\n",
    "PUMS_2019_PUMAs = make_GET_request(url_2019_PUMAs, 'use existing query for comparison')"
   ]
  },
  {
   "cell_type": "code",
   "execution_count": 13,
   "id": "c4af8d83",
   "metadata": {},
   "outputs": [
    {
     "name": "stdout",
     "output_type": "stream",
     "text": [
      "records in 2019 5-year estimates PUMA 4001 7150\n",
      "records in 2012 5-year estimates PUMA 4001 6448\n",
      "10.9 % increase 2012-2019\n"
     ]
    }
   ],
   "source": [
    "estimates_2012_total= PUMS_2010_PUMAs.shape[0] +PUMS_2000_PUMAs.shape[0]\n",
    "print(f'records in 2019 5-year estimates PUMA 4001 {PUMS_2019_PUMAs.shape[0]}')\n",
    "print(f'records in 2012 5-year estimates PUMA 4001 {estimates_2012_total}')\n",
    "print(f'{round((PUMS_2019_PUMAs.shape[0]-estimates_2012_total)/(estimates_2012_total), 3)*100} % increase 2012-2019')"
   ]
  },
  {
   "cell_type": "markdown",
   "id": "3e049260",
   "metadata": {},
   "source": [
    "Close enough to pass smell test to me."
   ]
  }
 ],
 "metadata": {
  "kernelspec": {
   "display_name": "Python 3 (ipykernel)",
   "language": "python",
   "name": "python3"
  },
  "language_info": {
   "codemirror_mode": {
    "name": "ipython",
    "version": 3
   },
   "file_extension": ".py",
   "mimetype": "text/x-python",
   "name": "python",
   "nbconvert_exporter": "python",
   "pygments_lexer": "ipython3",
   "version": "3.9.7"
  }
 },
 "nbformat": 4,
 "nbformat_minor": 5
}
