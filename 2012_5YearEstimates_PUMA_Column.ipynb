{
 "cells": [
  {
   "cell_type": "markdown",
   "id": "0a219516",
   "metadata": {},
   "source": [
    "We got an email from [edsci.feedback@census.gov] that told us we can find 2000 and 2010 PUMAs as column in the 2008-2012 5 year estimates. This notebook will try this approach for PUMA 4001"
   ]
  },
  {
   "cell_type": "code",
   "execution_count": 1,
   "id": "24ee54d1",
   "metadata": {},
   "outputs": [
    {
     "ename": "Exception",
     "evalue": "error making GET request for test PUMA00 column: There was an error while running your query.  We've logged the error and we'll correct it ASAP.  Sorry for the inconvenience.",
     "output_type": "error",
     "traceback": [
      "\u001b[0;31m---------------------------------------------------------------------------\u001b[0m",
      "\u001b[0;31mException\u001b[0m                                 Traceback (most recent call last)",
      "\u001b[0;32m/var/folders/0w/10m3bzb54hz5ns4dbxqj490c0000gq/T/ipykernel_7136/2083391476.py\u001b[0m in \u001b[0;36m<module>\u001b[0;34m\u001b[0m\n\u001b[1;32m      1\u001b[0m \u001b[0;32mfrom\u001b[0m \u001b[0mingest\u001b[0m\u001b[0;34m.\u001b[0m\u001b[0mPUMS_request\u001b[0m \u001b[0;32mimport\u001b[0m \u001b[0mmake_GET_request\u001b[0m\u001b[0;34m\u001b[0m\u001b[0;34m\u001b[0m\u001b[0m\n\u001b[1;32m      2\u001b[0m \u001b[0murl_2000_PUMAs\u001b[0m \u001b[0;34m=\u001b[0m \u001b[0;34m'https://api.census.gov/data/2012/acs/acs5/pums?get=SERIALNO,SPORDER,PWGTP&PUMA00=4001&ucgid=0400000US36'\u001b[0m\u001b[0;34m\u001b[0m\u001b[0;34m\u001b[0m\u001b[0m\n\u001b[0;32m----> 3\u001b[0;31m \u001b[0mPUMS_2000_PUMAs\u001b[0m \u001b[0;34m=\u001b[0m \u001b[0mmake_GET_request\u001b[0m\u001b[0;34m(\u001b[0m\u001b[0murl_2000_PUMAs\u001b[0m\u001b[0;34m,\u001b[0m \u001b[0;34m'test PUMA00 column'\u001b[0m\u001b[0;34m)\u001b[0m\u001b[0;34m\u001b[0m\u001b[0;34m\u001b[0m\u001b[0m\n\u001b[0m",
      "\u001b[0;32m~/Documents/dcp-projects/db-equitable-development-tool/ingest/PUMS_request.py\u001b[0m in \u001b[0;36mmake_GET_request\u001b[0;34m(url, request_name)\u001b[0m\n\u001b[1;32m     23\u001b[0m     \u001b[0;32mif\u001b[0m \u001b[0mres\u001b[0m\u001b[0;34m.\u001b[0m\u001b[0mstatus_code\u001b[0m \u001b[0;34m!=\u001b[0m \u001b[0;36m200\u001b[0m\u001b[0;34m:\u001b[0m\u001b[0;34m\u001b[0m\u001b[0;34m\u001b[0m\u001b[0m\n\u001b[1;32m     24\u001b[0m         \u001b[0mlogger\u001b[0m\u001b[0;34m.\u001b[0m\u001b[0merror\u001b[0m\u001b[0;34m(\u001b[0m\u001b[0;34mf\"error in processing request for {request_name}: {res.text}\"\u001b[0m\u001b[0;34m)\u001b[0m\u001b[0;34m\u001b[0m\u001b[0;34m\u001b[0m\u001b[0m\n\u001b[0;32m---> 25\u001b[0;31m         \u001b[0;32mraise\u001b[0m \u001b[0mException\u001b[0m\u001b[0;34m(\u001b[0m\u001b[0;34mf\"error making GET request for {request_name}: {res.text}\"\u001b[0m\u001b[0;34m)\u001b[0m\u001b[0;34m\u001b[0m\u001b[0;34m\u001b[0m\u001b[0m\n\u001b[0m\u001b[1;32m     26\u001b[0m     \u001b[0mend_time\u001b[0m \u001b[0;34m=\u001b[0m \u001b[0mtime\u001b[0m\u001b[0;34m.\u001b[0m\u001b[0mperf_counter\u001b[0m\u001b[0;34m(\u001b[0m\u001b[0;34m)\u001b[0m\u001b[0;34m\u001b[0m\u001b[0;34m\u001b[0m\u001b[0m\n\u001b[1;32m     27\u001b[0m     \u001b[0mlogger\u001b[0m\u001b[0;34m.\u001b[0m\u001b[0minfo\u001b[0m\u001b[0;34m(\u001b[0m\u001b[0;34mf\"this get request took {end_time - start_time} seconds\"\u001b[0m\u001b[0;34m)\u001b[0m\u001b[0;34m\u001b[0m\u001b[0;34m\u001b[0m\u001b[0m\n",
      "\u001b[0;31mException\u001b[0m: error making GET request for test PUMA00 column: There was an error while running your query.  We've logged the error and we'll correct it ASAP.  Sorry for the inconvenience."
     ]
    }
   ],
   "source": [
    "from ingest.PUMS_request import make_GET_request\n",
    "url_2000_PUMAs = 'https://api.census.gov/data/2012/acs/acs5/pums?get=SERIALNO,SPORDER,PWGTP&PUMA00=4001&ucgid=0400000US36'\n",
    "PUMS_2000_PUMAs = make_GET_request(url_2000_PUMAs, 'test PUMA00 column')"
   ]
  },
  {
   "cell_type": "code",
   "execution_count": null,
   "id": "3ed248d7",
   "metadata": {},
   "outputs": [
    {
     "data": {
      "text/plain": [
       "113734"
      ]
     },
     "execution_count": 23,
     "metadata": {},
     "output_type": "execute_result"
    }
   ],
   "source": [
    "PUMS_2000_PUMAs['PWGTP'] = PUMS_2000_PUMAs['PWGTP'].astype(int)\n",
    "old_geos_count = PUMS_2000_PUMAs['PWGTP'].sum()\n",
    "old_geos_count"
   ]
  },
  {
   "cell_type": "markdown",
   "id": "366dad45",
   "metadata": {},
   "source": [
    "Around 114k people from 2012 5-year estimates in NYS have PUMA00 of 4001 "
   ]
  },
  {
   "cell_type": "code",
   "execution_count": null,
   "id": "70893c4a",
   "metadata": {},
   "outputs": [],
   "source": [
    "url_2010_PUMAs = 'https://api.census.gov/data/2012/acs/acs5/pums?get=SERIALNO,SPORDER,PWGTP&PUMA10=4001&ucgid=0400000US36'\n",
    "PUMS_2010_PUMAs = make_GET_request(url_2010_PUMAs, 'test PUMA10 column')"
   ]
  },
  {
   "cell_type": "code",
   "execution_count": null,
   "id": "b4d60cd2",
   "metadata": {},
   "outputs": [
    {
     "data": {
      "text/plain": [
       "29825"
      ]
     },
     "execution_count": 25,
     "metadata": {},
     "output_type": "execute_result"
    }
   ],
   "source": [
    "PUMS_2010_PUMAs['PWGTP'] = PUMS_2010_PUMAs['PWGTP'].astype(int)\n",
    "new_geos_count = PUMS_2010_PUMAs['PWGTP'].sum()\n",
    "new_geos_count\n"
   ]
  },
  {
   "cell_type": "markdown",
   "id": "16831061",
   "metadata": {},
   "source": [
    "Around 30k people from 2012 5-year estimates in NYS have PUMA10 of 4001\n",
    "\n",
    "I would assume that 1/5th of all records in 2012 5-year estimates come from 2012, does this hold up?"
   ]
  },
  {
   "cell_type": "code",
   "execution_count": null,
   "id": "a072bda9",
   "metadata": {},
   "outputs": [
    {
     "data": {
      "text/plain": [
       "0.20775430310882634"
      ]
     },
     "execution_count": 26,
     "metadata": {},
     "output_type": "execute_result"
    }
   ],
   "source": [
    "new_geos_count/(old_geos_count+new_geos_count)"
   ]
  },
  {
   "cell_type": "markdown",
   "id": "5a36eb46",
   "metadata": {},
   "source": [
    "Yea looks good\n",
    "\n",
    "Next compare to 2015-2019 5 year estimates "
   ]
  },
  {
   "cell_type": "code",
   "execution_count": null,
   "id": "a6747757",
   "metadata": {},
   "outputs": [],
   "source": [
    "url_2019_PUMAs = 'https://api.census.gov/data/2019/acs/acs5/pums?get=SERIALNO,SPORDER,PWGTP&ucgid=7950000US3604001'\n",
    "PUMS_2019_PUMAs = make_GET_request(url_2019_PUMAs, 'use existing query for comparison')\n",
    "PUMS_2019_PUMAs['PWGTP'] = PUMS_2019_PUMAs['PWGTP'].astype(int)"
   ]
  },
  {
   "cell_type": "code",
   "execution_count": null,
   "id": "c4af8d83",
   "metadata": {},
   "outputs": [
    {
     "name": "stdout",
     "output_type": "stream",
     "text": [
      "records in 2019 5-year estimates PUMA 4001 162630\n",
      "records in 2012 5-year estimates PUMA 4001 143559\n",
      "13.3 % increase 2012-2019\n"
     ]
    }
   ],
   "source": [
    "estimates_2012_total= old_geos_count+new_geos_count\n",
    "print(f'records in 2019 5-year estimates PUMA 4001 {PUMS_2019_PUMAs[\"PWGTP\"].sum()}')\n",
    "print(f'records in 2012 5-year estimates PUMA 4001 {estimates_2012_total}')\n",
    "print(f'{round((PUMS_2019_PUMAs[\"PWGTP\"].sum()-estimates_2012_total)/(estimates_2012_total), 3)*100} % increase 2012-2019')"
   ]
  },
  {
   "cell_type": "markdown",
   "id": "3e049260",
   "metadata": {},
   "source": [
    "Close enough to pass smell test to me."
   ]
  },
  {
   "cell_type": "code",
   "execution_count": null,
   "id": "6ad6d529",
   "metadata": {},
   "outputs": [],
   "source": []
  },
  {
   "cell_type": "markdown",
   "id": "42ae9868",
   "metadata": {},
   "source": [
    "### Check Additional PUMAs for Sanity Check \n",
    "\n",
    "We want to take a look at a few different PUMAs for the 2000 and 2010 PUMAs and see if they might differ from expected values (using 3702)"
   ]
  },
  {
   "cell_type": "code",
   "execution_count": null,
   "id": "a8122ed8",
   "metadata": {},
   "outputs": [],
   "source": [
    "#### Check different PUMA's - try 3702 \n",
    "\n",
    "url_2000_PUMAs_3702 = 'https://api.census.gov/data/2012/acs/acs5/pums?get=SERIALNO,SPORDER,PWGTP&PUMA00=3702&ucgid=0400000US36'\n",
    "PUMS_2000_PUMAs_3702 = make_GET_request(url_2000_PUMAs_3702, 'test PUMA00 column')\n"
   ]
  },
  {
   "cell_type": "code",
   "execution_count": null,
   "id": "eceaaae5",
   "metadata": {},
   "outputs": [
    {
     "data": {
      "text/html": [
       "<div>\n",
       "<style scoped>\n",
       "    .dataframe tbody tr th:only-of-type {\n",
       "        vertical-align: middle;\n",
       "    }\n",
       "\n",
       "    .dataframe tbody tr th {\n",
       "        vertical-align: top;\n",
       "    }\n",
       "\n",
       "    .dataframe thead th {\n",
       "        text-align: right;\n",
       "    }\n",
       "</style>\n",
       "<table border=\"1\" class=\"dataframe\">\n",
       "  <thead>\n",
       "    <tr style=\"text-align: right;\">\n",
       "      <th></th>\n",
       "      <th>SERIALNO</th>\n",
       "      <th>SPORDER</th>\n",
       "      <th>PWGTP</th>\n",
       "      <th>PUMA00</th>\n",
       "      <th>ST</th>\n",
       "    </tr>\n",
       "  </thead>\n",
       "  <tbody>\n",
       "    <tr>\n",
       "      <th>0</th>\n",
       "      <td>2008000012871</td>\n",
       "      <td>1</td>\n",
       "      <td>15</td>\n",
       "      <td>3702</td>\n",
       "      <td>36</td>\n",
       "    </tr>\n",
       "    <tr>\n",
       "      <th>1</th>\n",
       "      <td>2008000012871</td>\n",
       "      <td>2</td>\n",
       "      <td>22</td>\n",
       "      <td>3702</td>\n",
       "      <td>36</td>\n",
       "    </tr>\n",
       "    <tr>\n",
       "      <th>2</th>\n",
       "      <td>2008000012871</td>\n",
       "      <td>3</td>\n",
       "      <td>19</td>\n",
       "      <td>3702</td>\n",
       "      <td>36</td>\n",
       "    </tr>\n",
       "    <tr>\n",
       "      <th>3</th>\n",
       "      <td>2008000012871</td>\n",
       "      <td>4</td>\n",
       "      <td>15</td>\n",
       "      <td>3702</td>\n",
       "      <td>36</td>\n",
       "    </tr>\n",
       "    <tr>\n",
       "      <th>4</th>\n",
       "      <td>2008000023128</td>\n",
       "      <td>1</td>\n",
       "      <td>14</td>\n",
       "      <td>3702</td>\n",
       "      <td>36</td>\n",
       "    </tr>\n",
       "  </tbody>\n",
       "</table>\n",
       "</div>"
      ],
      "text/plain": [
       "        SERIALNO SPORDER PWGTP PUMA00  ST\n",
       "0  2008000012871       1    15   3702  36\n",
       "1  2008000012871       2    22   3702  36\n",
       "2  2008000012871       3    19   3702  36\n",
       "3  2008000012871       4    15   3702  36\n",
       "4  2008000023128       1    14   3702  36"
      ]
     },
     "execution_count": 30,
     "metadata": {},
     "output_type": "execute_result"
    }
   ],
   "source": [
    "PUMS_2000_PUMAs_3702.head()"
   ]
  },
  {
   "cell_type": "code",
   "execution_count": null,
   "id": "f48969a0",
   "metadata": {},
   "outputs": [
    {
     "data": {
      "text/plain": [
       "115273"
      ]
     },
     "execution_count": 31,
     "metadata": {},
     "output_type": "execute_result"
    }
   ],
   "source": [
    "PUMS_2000_PUMAs_3702['PWGTP'] = PUMS_2000_PUMAs_3702['PWGTP'].astype(int)\n",
    "old_geos_count_3702 = PUMS_2000_PUMAs_3702['PWGTP'].sum()\n",
    "old_geos_count_3702"
   ]
  },
  {
   "cell_type": "code",
   "execution_count": null,
   "id": "d04c5f84",
   "metadata": {},
   "outputs": [],
   "source": []
  },
  {
   "cell_type": "code",
   "execution_count": null,
   "id": "06bb8774",
   "metadata": {},
   "outputs": [],
   "source": [
    "url_2010_PUMAs_3702 = 'https://api.census.gov/data/2012/acs/acs5/pums?get=SERIALNO,SPORDER,PWGTP&PUMA10=3702&ucgid=0400000US36'\n",
    "PUMS_2010_PUMAs_3702 = make_GET_request(url_2010_PUMAs, 'test PUMA10 column')"
   ]
  },
  {
   "cell_type": "code",
   "execution_count": null,
   "id": "f3ce8b09",
   "metadata": {},
   "outputs": [
    {
     "data": {
      "text/plain": [
       "29825"
      ]
     },
     "execution_count": 33,
     "metadata": {},
     "output_type": "execute_result"
    }
   ],
   "source": [
    "PUMS_2010_PUMAs_3702['PWGTP'] = PUMS_2010_PUMAs_3702['PWGTP'].astype(int)\n",
    "new_geos_count_3702 = PUMS_2010_PUMAs_3702['PWGTP'].sum()\n",
    "new_geos_count_3702"
   ]
  },
  {
   "cell_type": "code",
   "execution_count": null,
   "id": "47a23754",
   "metadata": {},
   "outputs": [
    {
     "data": {
      "text/plain": [
       "0.20555073122992737"
      ]
     },
     "execution_count": 36,
     "metadata": {},
     "output_type": "execute_result"
    }
   ],
   "source": [
    "new_geos_count_3702/(old_geos_count_3702+new_geos_count_3702)"
   ]
  },
  {
   "cell_type": "code",
   "execution_count": null,
   "id": "cef1378a",
   "metadata": {},
   "outputs": [],
   "source": [
    "url_2019_PUMAs_3702 = 'https://api.census.gov/data/2019/acs/acs5/pums?get=SERIALNO,SPORDER,PWGTP&ucgid=7950000US3603702'\n",
    "PUMS_2019_PUMAs_3702 = make_GET_request(url_2019_PUMAs_3702, 'use existing query for comparison')\n",
    "PUMS_2019_PUMAs_3702['PWGTP'] = PUMS_2019_PUMAs_3702['PWGTP'].astype(int)"
   ]
  },
  {
   "cell_type": "code",
   "execution_count": null,
   "id": "0a7ba29d",
   "metadata": {},
   "outputs": [
    {
     "data": {
      "text/html": [
       "<div>\n",
       "<style scoped>\n",
       "    .dataframe tbody tr th:only-of-type {\n",
       "        vertical-align: middle;\n",
       "    }\n",
       "\n",
       "    .dataframe tbody tr th {\n",
       "        vertical-align: top;\n",
       "    }\n",
       "\n",
       "    .dataframe thead th {\n",
       "        text-align: right;\n",
       "    }\n",
       "</style>\n",
       "<table border=\"1\" class=\"dataframe\">\n",
       "  <thead>\n",
       "    <tr style=\"text-align: right;\">\n",
       "      <th></th>\n",
       "      <th>SERIALNO</th>\n",
       "      <th>SPORDER</th>\n",
       "      <th>PWGTP</th>\n",
       "      <th>PUMA</th>\n",
       "      <th>ST</th>\n",
       "    </tr>\n",
       "  </thead>\n",
       "  <tbody>\n",
       "    <tr>\n",
       "      <th>0</th>\n",
       "      <td>2015000001904</td>\n",
       "      <td>1</td>\n",
       "      <td>20</td>\n",
       "      <td>3702</td>\n",
       "      <td>36</td>\n",
       "    </tr>\n",
       "    <tr>\n",
       "      <th>1</th>\n",
       "      <td>2015000001904</td>\n",
       "      <td>2</td>\n",
       "      <td>25</td>\n",
       "      <td>3702</td>\n",
       "      <td>36</td>\n",
       "    </tr>\n",
       "    <tr>\n",
       "      <th>2</th>\n",
       "      <td>2015000006256</td>\n",
       "      <td>1</td>\n",
       "      <td>32</td>\n",
       "      <td>3702</td>\n",
       "      <td>36</td>\n",
       "    </tr>\n",
       "    <tr>\n",
       "      <th>3</th>\n",
       "      <td>2015000006256</td>\n",
       "      <td>2</td>\n",
       "      <td>32</td>\n",
       "      <td>3702</td>\n",
       "      <td>36</td>\n",
       "    </tr>\n",
       "    <tr>\n",
       "      <th>4</th>\n",
       "      <td>2015000007115</td>\n",
       "      <td>1</td>\n",
       "      <td>18</td>\n",
       "      <td>3702</td>\n",
       "      <td>36</td>\n",
       "    </tr>\n",
       "  </tbody>\n",
       "</table>\n",
       "</div>"
      ],
      "text/plain": [
       "        SERIALNO SPORDER  PWGTP  PUMA  ST\n",
       "0  2015000001904       1     20  3702  36\n",
       "1  2015000001904       2     25  3702  36\n",
       "2  2015000006256       1     32  3702  36\n",
       "3  2015000006256       2     32  3702  36\n",
       "4  2015000007115       1     18  3702  36"
      ]
     },
     "execution_count": 40,
     "metadata": {},
     "output_type": "execute_result"
    }
   ],
   "source": [
    "PUMS_2019_PUMAs_3702.head()"
   ]
  },
  {
   "cell_type": "code",
   "execution_count": null,
   "id": "bf6ff8dd",
   "metadata": {},
   "outputs": [
    {
     "name": "stdout",
     "output_type": "stream",
     "text": [
      "records in 2019 5-year estimates PUMA 3702 151184\n",
      "records in 2012 5-year estimates PUMA 3702 145098\n",
      "4.2 % increase 2012-2019\n"
     ]
    }
   ],
   "source": [
    "estimates_2012_total_3702 = old_geos_count_3702+new_geos_count_3702\n",
    "print(f'records in 2019 5-year estimates PUMA 3702 {PUMS_2019_PUMAs_3702[\"PWGTP\"].sum()}')\n",
    "print(f'records in 2012 5-year estimates PUMA 3702 {estimates_2012_total_3702}')\n",
    "print(f'{round((PUMS_2019_PUMAs_3702[\"PWGTP\"].sum()-estimates_2012_total_3702)/(estimates_2012_total_3702), 3)*100} % increase 2012-2019')"
   ]
  },
  {
   "cell_type": "code",
   "execution_count": null,
   "id": "aaec83ec",
   "metadata": {},
   "outputs": [],
   "source": [
    "#### Check a puma in Queens - 4101\n",
    "\n",
    "url_2000_PUMAs_4101 = 'https://api.census.gov/data/2012/acs/acs5/pums?get=SERIALNO,SPORDER,PWGTP&PUMA00=4101&ucgid=0400000US36'\n",
    "PUMS_2000_PUMAs_4101 = make_GET_request(url_2000_PUMAs_4101, 'test PUMA00 column')\n"
   ]
  },
  {
   "cell_type": "code",
   "execution_count": null,
   "id": "c92d1fbc",
   "metadata": {},
   "outputs": [
    {
     "ename": "NameError",
     "evalue": "name 'PUMS_2000_PUMAs_4101' is not defined",
     "output_type": "error",
     "traceback": [
      "\u001b[0;31m---------------------------------------------------------------------------\u001b[0m",
      "\u001b[0;31mNameError\u001b[0m                                 Traceback (most recent call last)",
      "\u001b[0;32m/var/folders/0w/10m3bzb54hz5ns4dbxqj490c0000gq/T/ipykernel_5199/256822403.py\u001b[0m in \u001b[0;36m<module>\u001b[0;34m\u001b[0m\n\u001b[0;32m----> 1\u001b[0;31m \u001b[0mPUMS_2000_PUMAs_4101\u001b[0m\u001b[0;34m\u001b[0m\u001b[0;34m\u001b[0m\u001b[0m\n\u001b[0m",
      "\u001b[0;31mNameError\u001b[0m: name 'PUMS_2000_PUMAs_4101' is not defined"
     ]
    }
   ],
   "source": [
    "PUMS_2000_PUMAs_4101.head()"
   ]
  },
  {
   "cell_type": "code",
   "execution_count": null,
   "id": "5f31710d",
   "metadata": {},
   "outputs": [],
   "source": []
  },
  {
   "cell_type": "code",
   "execution_count": null,
   "id": "8e6cb91a",
   "metadata": {},
   "outputs": [],
   "source": []
  },
  {
   "cell_type": "code",
   "execution_count": null,
   "id": "984e76ee",
   "metadata": {},
   "outputs": [],
   "source": []
  },
  {
   "cell_type": "code",
   "execution_count": null,
   "id": "b8475593",
   "metadata": {},
   "outputs": [],
   "source": []
  },
  {
   "cell_type": "markdown",
   "id": "56f55abd",
   "metadata": {},
   "source": [
    "Check multiple pumas"
   ]
  },
  {
   "cell_type": "code",
   "execution_count": null,
   "id": "d4a34719",
   "metadata": {},
   "outputs": [],
   "source": [
    "url_2000_PUMAs = 'https://api.census.gov/data/2012/acs/acs5/pums?get=SERIALNO,SPORDER,PWGTP&PUMA00&PUMA10=3702,3703,3704&ucgid=0400000US36'\n",
    "PUMS_2000_PUMAs_bx = make_GET_request(url_2000_PUMAs, 'test PUMA00 column')"
   ]
  },
  {
   "cell_type": "code",
   "execution_count": null,
   "id": "35501198",
   "metadata": {},
   "outputs": [
    {
     "data": {
      "text/html": [
       "<div>\n",
       "<style scoped>\n",
       "    .dataframe tbody tr th:only-of-type {\n",
       "        vertical-align: middle;\n",
       "    }\n",
       "\n",
       "    .dataframe tbody tr th {\n",
       "        vertical-align: top;\n",
       "    }\n",
       "\n",
       "    .dataframe thead th {\n",
       "        text-align: right;\n",
       "    }\n",
       "</style>\n",
       "<table border=\"1\" class=\"dataframe\">\n",
       "  <thead>\n",
       "    <tr style=\"text-align: right;\">\n",
       "      <th></th>\n",
       "      <th>SERIALNO</th>\n",
       "      <th>SPORDER</th>\n",
       "      <th>PWGTP</th>\n",
       "      <th>PUMA00</th>\n",
       "      <th>PUMA10</th>\n",
       "      <th>ST</th>\n",
       "    </tr>\n",
       "  </thead>\n",
       "  <tbody>\n",
       "    <tr>\n",
       "      <th>0</th>\n",
       "      <td>2012000000168</td>\n",
       "      <td>1</td>\n",
       "      <td>23</td>\n",
       "      <td>-9</td>\n",
       "      <td>3702</td>\n",
       "      <td>36</td>\n",
       "    </tr>\n",
       "    <tr>\n",
       "      <th>1</th>\n",
       "      <td>2012000000168</td>\n",
       "      <td>2</td>\n",
       "      <td>43</td>\n",
       "      <td>-9</td>\n",
       "      <td>3702</td>\n",
       "      <td>36</td>\n",
       "    </tr>\n",
       "    <tr>\n",
       "      <th>2</th>\n",
       "      <td>2012000000317</td>\n",
       "      <td>1</td>\n",
       "      <td>11</td>\n",
       "      <td>-9</td>\n",
       "      <td>3704</td>\n",
       "      <td>36</td>\n",
       "    </tr>\n",
       "    <tr>\n",
       "      <th>3</th>\n",
       "      <td>2012000007396</td>\n",
       "      <td>1</td>\n",
       "      <td>1</td>\n",
       "      <td>-9</td>\n",
       "      <td>3703</td>\n",
       "      <td>36</td>\n",
       "    </tr>\n",
       "    <tr>\n",
       "      <th>4</th>\n",
       "      <td>2012000007721</td>\n",
       "      <td>1</td>\n",
       "      <td>7</td>\n",
       "      <td>-9</td>\n",
       "      <td>3704</td>\n",
       "      <td>36</td>\n",
       "    </tr>\n",
       "    <tr>\n",
       "      <th>5</th>\n",
       "      <td>2012000012852</td>\n",
       "      <td>1</td>\n",
       "      <td>37</td>\n",
       "      <td>-9</td>\n",
       "      <td>3702</td>\n",
       "      <td>36</td>\n",
       "    </tr>\n",
       "    <tr>\n",
       "      <th>6</th>\n",
       "      <td>2012000012852</td>\n",
       "      <td>2</td>\n",
       "      <td>39</td>\n",
       "      <td>-9</td>\n",
       "      <td>3702</td>\n",
       "      <td>36</td>\n",
       "    </tr>\n",
       "    <tr>\n",
       "      <th>7</th>\n",
       "      <td>2012000012852</td>\n",
       "      <td>3</td>\n",
       "      <td>40</td>\n",
       "      <td>-9</td>\n",
       "      <td>3702</td>\n",
       "      <td>36</td>\n",
       "    </tr>\n",
       "    <tr>\n",
       "      <th>8</th>\n",
       "      <td>2012000012852</td>\n",
       "      <td>4</td>\n",
       "      <td>34</td>\n",
       "      <td>-9</td>\n",
       "      <td>3702</td>\n",
       "      <td>36</td>\n",
       "    </tr>\n",
       "    <tr>\n",
       "      <th>9</th>\n",
       "      <td>2012000012852</td>\n",
       "      <td>5</td>\n",
       "      <td>34</td>\n",
       "      <td>-9</td>\n",
       "      <td>3702</td>\n",
       "      <td>36</td>\n",
       "    </tr>\n",
       "    <tr>\n",
       "      <th>10</th>\n",
       "      <td>2012000012852</td>\n",
       "      <td>6</td>\n",
       "      <td>48</td>\n",
       "      <td>-9</td>\n",
       "      <td>3702</td>\n",
       "      <td>36</td>\n",
       "    </tr>\n",
       "    <tr>\n",
       "      <th>11</th>\n",
       "      <td>2012000012852</td>\n",
       "      <td>7</td>\n",
       "      <td>30</td>\n",
       "      <td>-9</td>\n",
       "      <td>3702</td>\n",
       "      <td>36</td>\n",
       "    </tr>\n",
       "    <tr>\n",
       "      <th>12</th>\n",
       "      <td>2012000012948</td>\n",
       "      <td>1</td>\n",
       "      <td>32</td>\n",
       "      <td>-9</td>\n",
       "      <td>3704</td>\n",
       "      <td>36</td>\n",
       "    </tr>\n",
       "    <tr>\n",
       "      <th>13</th>\n",
       "      <td>2012000012948</td>\n",
       "      <td>2</td>\n",
       "      <td>30</td>\n",
       "      <td>-9</td>\n",
       "      <td>3704</td>\n",
       "      <td>36</td>\n",
       "    </tr>\n",
       "    <tr>\n",
       "      <th>14</th>\n",
       "      <td>2012000012948</td>\n",
       "      <td>3</td>\n",
       "      <td>33</td>\n",
       "      <td>-9</td>\n",
       "      <td>3704</td>\n",
       "      <td>36</td>\n",
       "    </tr>\n",
       "    <tr>\n",
       "      <th>15</th>\n",
       "      <td>2012000012948</td>\n",
       "      <td>4</td>\n",
       "      <td>32</td>\n",
       "      <td>-9</td>\n",
       "      <td>3704</td>\n",
       "      <td>36</td>\n",
       "    </tr>\n",
       "    <tr>\n",
       "      <th>16</th>\n",
       "      <td>2012000012948</td>\n",
       "      <td>5</td>\n",
       "      <td>46</td>\n",
       "      <td>-9</td>\n",
       "      <td>3704</td>\n",
       "      <td>36</td>\n",
       "    </tr>\n",
       "    <tr>\n",
       "      <th>17</th>\n",
       "      <td>2012000015231</td>\n",
       "      <td>1</td>\n",
       "      <td>25</td>\n",
       "      <td>-9</td>\n",
       "      <td>3703</td>\n",
       "      <td>36</td>\n",
       "    </tr>\n",
       "    <tr>\n",
       "      <th>18</th>\n",
       "      <td>2012000015231</td>\n",
       "      <td>2</td>\n",
       "      <td>34</td>\n",
       "      <td>-9</td>\n",
       "      <td>3703</td>\n",
       "      <td>36</td>\n",
       "    </tr>\n",
       "    <tr>\n",
       "      <th>19</th>\n",
       "      <td>2012000015231</td>\n",
       "      <td>3</td>\n",
       "      <td>31</td>\n",
       "      <td>-9</td>\n",
       "      <td>3703</td>\n",
       "      <td>36</td>\n",
       "    </tr>\n",
       "  </tbody>\n",
       "</table>\n",
       "</div>"
      ],
      "text/plain": [
       "         SERIALNO SPORDER PWGTP PUMA00 PUMA10  ST\n",
       "0   2012000000168       1    23     -9   3702  36\n",
       "1   2012000000168       2    43     -9   3702  36\n",
       "2   2012000000317       1    11     -9   3704  36\n",
       "3   2012000007396       1     1     -9   3703  36\n",
       "4   2012000007721       1     7     -9   3704  36\n",
       "5   2012000012852       1    37     -9   3702  36\n",
       "6   2012000012852       2    39     -9   3702  36\n",
       "7   2012000012852       3    40     -9   3702  36\n",
       "8   2012000012852       4    34     -9   3702  36\n",
       "9   2012000012852       5    34     -9   3702  36\n",
       "10  2012000012852       6    48     -9   3702  36\n",
       "11  2012000012852       7    30     -9   3702  36\n",
       "12  2012000012948       1    32     -9   3704  36\n",
       "13  2012000012948       2    30     -9   3704  36\n",
       "14  2012000012948       3    33     -9   3704  36\n",
       "15  2012000012948       4    32     -9   3704  36\n",
       "16  2012000012948       5    46     -9   3704  36\n",
       "17  2012000015231       1    25     -9   3703  36\n",
       "18  2012000015231       2    34     -9   3703  36\n",
       "19  2012000015231       3    31     -9   3703  36"
      ]
     },
     "execution_count": 54,
     "metadata": {},
     "output_type": "execute_result"
    }
   ],
   "source": [
    "PUMS_2000_PUMAs_bx.head(20)"
   ]
  },
  {
   "cell_type": "code",
   "execution_count": null,
   "id": "0138d838",
   "metadata": {},
   "outputs": [],
   "source": [
    "#### Pick up tomorrow - make sure to push changes to ipnyb and double check population of the puma by summing weights \n",
    "\n",
    "\n",
    "\n",
    "\n",
    "#### j"
   ]
  }
 ],
 "metadata": {
  "kernelspec": {
   "display_name": "Python 3 (ipykernel)",
   "language": "python",
   "name": "python3"
  },
  "language_info": {
   "codemirror_mode": {
    "name": "ipython",
    "version": 3
   },
   "file_extension": ".py",
   "mimetype": "text/x-python",
   "name": "python",
   "nbconvert_exporter": "python",
   "pygments_lexer": "ipython3",
   "version": "3.9.8"
  }
 },
 "nbformat": 4,
 "nbformat_minor": 5
}
