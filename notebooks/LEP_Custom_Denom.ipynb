{
 "cells": [
  {
   "cell_type": "markdown",
   "id": "71f01d02",
   "metadata": {},
   "source": [
    "# February 8th Standup\n",
    "## Custom denominator for LEP\n",
    " - Denominator columns in output\n",
    " - No more \"not_lep\" or \"not_fb\" (foreign born), just affirmative\n",
    " - Custom denominator of just people 5 and over for LEP\n",
    "\n",
    "I chose to put these numbers in a jupyter notebook to walk through as for some reason it's brain melting. I will open the pull request after standup"
   ]
  },
  {
   "cell_type": "code",
   "execution_count": 47,
   "id": "390035ba",
   "metadata": {},
   "outputs": [
    {
     "name": "stdout",
     "output_type": "stream",
     "text": [
      "The autoreload extension is already loaded. To reload it, use:\n",
      "  %reload_ext autoreload\n"
     ]
    }
   ],
   "source": [
    "%load_ext autoreload\n",
    "%autoreload 2\n"
   ]
  },
  {
   "cell_type": "code",
   "execution_count": 48,
   "id": "803caf0a",
   "metadata": {},
   "outputs": [
    {
     "name": "stdout",
     "output_type": "stream",
     "text": [
      "called set_wd_root. current working directory is /Users/alexanderweinstein/Documents/Data_Products/db-equitable-development-tool\n"
     ]
    }
   ],
   "source": [
    "import sys\n",
    "sys.path.append('../utils')\n",
    "import wd_management\n",
    "wd_management.set_wd_root()"
   ]
  },
  {
   "cell_type": "code",
   "execution_count": 49,
   "id": "07a5a4cb",
   "metadata": {
    "scrolled": true
   },
   "outputs": [
    {
     "name": "stdout",
     "output_type": "stream",
     "text": [
      "iterated to age_bucket\n",
      "assigning indicator of age_bucket \n",
      "iterated to foreign_born\n",
      "assigning indicator of foreign_born \n",
      "iterated to LEP\n",
      "assigning indicator of LEP \n",
      "iterated to total_pop\n",
      "assigning indicator of total_pop \n"
     ]
    }
   ],
   "source": [
    "from aggregate.PUMS.count_PUMS_demographics import PUMSCountDemographics\n",
    "aggregator = PUMSCountDemographics(limited_PUMA=True)"
   ]
  },
  {
   "cell_type": "code",
   "execution_count": 50,
   "id": "7133fce1",
   "metadata": {},
   "outputs": [],
   "source": [
    "df = aggregator.aggregated"
   ]
  },
  {
   "cell_type": "markdown",
   "id": "ea0060f0",
   "metadata": {},
   "source": [
    "Start with total_pop. It's easiest"
   ]
  },
  {
   "cell_type": "code",
   "execution_count": 51,
   "id": "d3e5d573",
   "metadata": {},
   "outputs": [
    {
     "name": "stdout",
     "output_type": "stream",
     "text": [
      "4001    162630.0\n",
      "3701    110196.0\n",
      "4101    163980.0\n",
      "3801    216605.0\n",
      "3901    164675.0\n",
      "Name: total_pop-count, dtype: float64\n",
      "\n",
      "4001    1.0\n",
      "3701    1.0\n",
      "4101    1.0\n",
      "3801    1.0\n",
      "3901    1.0\n",
      "Name: total_pop-fraction, dtype: float64\n",
      "\n",
      "4001    162630.0\n",
      "3701    110196.0\n",
      "4101    163980.0\n",
      "3801    216605.0\n",
      "3901    164675.0\n",
      "Name: total_pop-fraction-denom, dtype: float64\n"
     ]
    }
   ],
   "source": [
    "print(df['total_pop-count'])\n",
    "print()\n",
    "print(df['total_pop-fraction'])\n",
    "print()\n",
    "print(df['total_pop-fraction-denom'])"
   ]
  },
  {
   "cell_type": "markdown",
   "id": "578b09d4",
   "metadata": {},
   "source": [
    "Ok that all looks good"
   ]
  },
  {
   "cell_type": "markdown",
   "id": "88e0b045",
   "metadata": {},
   "source": [
    "## Foreign Born\n",
    "This indicator is next easiest as there is only one category and the denom should be total pop"
   ]
  },
  {
   "cell_type": "code",
   "execution_count": 52,
   "id": "5e367b9e",
   "metadata": {},
   "outputs": [
    {
     "name": "stdout",
     "output_type": "stream",
     "text": [
      "4001     38266.0\n",
      "3701     36435.0\n",
      "4101     62053.0\n",
      "3801    100086.0\n",
      "3901     26725.0\n",
      "Name: fb-count, dtype: float64\n",
      "\n",
      "4001    0.235295\n",
      "3701    0.330638\n",
      "4101    0.378418\n",
      "3801    0.462067\n",
      "3901    0.162289\n",
      "Name: fb-fraction, dtype: float64\n"
     ]
    }
   ],
   "source": [
    "print(df['fb-count'])\n",
    "print()\n",
    "print(df['fb-fraction'])\n",
    "assert (df['fb-fraction-denom'] == df['total_pop-count']).all()\n",
    "assert (df['fb-count']/df['fb-fraction-denom'] == df['fb-fraction']).all()"
   ]
  },
  {
   "cell_type": "markdown",
   "id": "ddb3912d",
   "metadata": {},
   "source": [
    "Ok great. What about foreign born by race? What should that denom be? Let's take foreign born asian as an example"
   ]
  },
  {
   "cell_type": "code",
   "execution_count": 53,
   "id": "da2959da",
   "metadata": {},
   "outputs": [
    {
     "name": "stdout",
     "output_type": "stream",
     "text": [
      "4001     7615.0\n",
      "3701     3404.0\n",
      "4101    17213.0\n",
      "3801     4375.0\n",
      "3901     5059.0\n",
      "Name: fb-anh-count, dtype: float64\n",
      "\n",
      "4001    0.693597\n",
      "3701    0.727817\n",
      "4101    0.673540\n",
      "3801    0.692905\n",
      "3901    0.638199\n",
      "Name: fb-anh-fraction, dtype: float64\n",
      "\n",
      "4001    10979.0\n",
      "3701     4677.0\n",
      "4101    25556.0\n",
      "3801     6314.0\n",
      "3901     7927.0\n",
      "Name: fb-anh-fraction-denom, dtype: float64\n"
     ]
    }
   ],
   "source": [
    "print(df['fb-anh-count'])\n",
    "print()\n",
    "print(df['fb-anh-fraction'])\n",
    "print()\n",
    "print(df['fb-anh-fraction-denom'])\n"
   ]
  },
  {
   "cell_type": "markdown",
   "id": "a6d1fee5",
   "metadata": {},
   "source": [
    "Denom should be all foreign born people. This crosstab asks \"what percentage of foreign born people are asian?\""
   ]
  },
  {
   "cell_type": "code",
   "execution_count": 55,
   "id": "2ded68c5",
   "metadata": {},
   "outputs": [],
   "source": [
    "assert (df['fb-anh-fraction-denom'] == df['total_pop-anh-count']).all()"
   ]
  },
  {
   "cell_type": "markdown",
   "id": "3eb42ad7",
   "metadata": {},
   "source": [
    "## Limited english proficiency\n",
    "This is a little more complex as our denominator is smaller than all people"
   ]
  },
  {
   "cell_type": "code",
   "execution_count": 57,
   "id": "1fed0757",
   "metadata": {},
   "outputs": [
    {
     "name": "stdout",
     "output_type": "stream",
     "text": [
      "4001    30209.0\n",
      "3701    23053.0\n",
      "4101    34695.0\n",
      "3801    74127.0\n",
      "3901    10719.0\n",
      "Name: lep-count, dtype: float64\n",
      "\n",
      "4001    0.204697\n",
      "3701    0.228340\n",
      "4101    0.224894\n",
      "3801    0.363837\n",
      "3901    0.069665\n",
      "Name: lep-fraction, dtype: float64\n",
      "\n",
      "4001    147579.0\n",
      "3701    100959.0\n",
      "4101    154273.0\n",
      "3801    203737.0\n",
      "3901    153864.0\n",
      "Name: lep-fraction-denom, dtype: float64\n"
     ]
    }
   ],
   "source": [
    "print(df['lep-count'])\n",
    "print()\n",
    "print(df['lep-fraction'])\n",
    "print()\n",
    "print(df['lep-fraction-denom'])\n",
    "assert (df['lep-count']/df['lep-fraction-denom'] == df['lep-fraction']).all()"
   ]
  },
  {
   "cell_type": "markdown",
   "id": "ff2443e9",
   "metadata": {},
   "source": [
    "How do denomiator for LEP, total pop compare?"
   ]
  },
  {
   "cell_type": "code",
   "execution_count": 58,
   "id": "7a95440d",
   "metadata": {},
   "outputs": [
    {
     "data": {
      "text/plain": [
       "4001    0.907452\n",
       "3701    0.916177\n",
       "4101    0.940804\n",
       "3801    0.940592\n",
       "3901    0.934349\n",
       "dtype: float64"
      ]
     },
     "execution_count": 58,
     "metadata": {},
     "output_type": "execute_result"
    }
   ],
   "source": [
    "df['lep-fraction-denom']/df['total_pop-count']"
   ]
  },
  {
   "cell_type": "markdown",
   "id": "c4761091",
   "metadata": {},
   "source": [
    "91-94% of people are over age 5, that passes smell test"
   ]
  },
  {
   "cell_type": "markdown",
   "id": "0e677b91",
   "metadata": {},
   "source": [
    "Similar question as above, what is denominator for LEP black non-hispanic?"
   ]
  },
  {
   "cell_type": "code",
   "execution_count": 59,
   "id": "36eb9810",
   "metadata": {},
   "outputs": [
    {
     "name": "stdout",
     "output_type": "stream",
     "text": [
      "4001     5809.0\n",
      "3701    12788.0\n",
      "4101    10193.0\n",
      "3801    15800.0\n",
      "3901     1343.0\n",
      "Name: lep-bnh-fraction-denom, dtype: float64\n",
      "\n",
      "4001     5809.0\n",
      "3701    12788.0\n",
      "4101    10193.0\n",
      "3801    15800.0\n",
      "3901     1343.0\n",
      "Name: lep-bnh-fraction-denom, dtype: float64\n"
     ]
    }
   ],
   "source": [
    "print(df['lep-bnh-fraction-denom'])\n",
    "print()\n",
    "print(df['lep-bnh-fraction-denom'])\n",
    "assert (df['lep-bnh-count']/df['lep-bnh-fraction-denom'] == df['lep-bnh-fraction']).all()"
   ]
  },
  {
   "cell_type": "markdown",
   "id": "7d36f354",
   "metadata": {},
   "source": [
    "That looks good to me"
   ]
  },
  {
   "cell_type": "markdown",
   "id": "54add11d",
   "metadata": {},
   "source": [
    "## Age buckets\n",
    "Finally look at age buckets, should be all the same pattern but doesn't hurt to take a look. Denominator is supposed to be all people"
   ]
  },
  {
   "cell_type": "code",
   "execution_count": 60,
   "id": "cd086dc7",
   "metadata": {},
   "outputs": [
    {
     "name": "stdout",
     "output_type": "stream",
     "text": [
      "4001    114273.0\n",
      "3701     66563.0\n",
      "4101    119440.0\n",
      "3801    151546.0\n",
      "3901    104964.0\n",
      "Name: P16t64-count, dtype: float64\n",
      "\n",
      "4001    0.702656\n",
      "3701    0.604042\n",
      "4101    0.728382\n",
      "3801    0.699642\n",
      "3901    0.637401\n",
      "Name: P16t64-fraction, dtype: float64\n",
      "\n",
      "4001    162630.0\n",
      "3701    110196.0\n",
      "4101    163980.0\n",
      "3801    216605.0\n",
      "3901    164675.0\n",
      "Name: P16t64-fraction-denom, dtype: float64\n"
     ]
    }
   ],
   "source": [
    "print(df['P16t64-count'])\n",
    "print()\n",
    "print(df['P16t64-fraction'])\n",
    "print()\n",
    "print(df['P16t64-fraction-denom'])\n",
    "assert (df['P16t64-count']/df['P16t64-fraction-denom'] == df['P16t64-fraction']).all()"
   ]
  },
  {
   "cell_type": "code",
   "execution_count": null,
   "id": "7857d79b",
   "metadata": {},
   "outputs": [],
   "source": []
  },
  {
   "cell_type": "code",
   "execution_count": null,
   "id": "cd9bff51",
   "metadata": {},
   "outputs": [],
   "source": []
  }
 ],
 "metadata": {
  "kernelspec": {
   "display_name": "Python 3 (ipykernel)",
   "language": "python",
   "name": "python3"
  },
  "language_info": {
   "codemirror_mode": {
    "name": "ipython",
    "version": 3
   },
   "file_extension": ".py",
   "mimetype": "text/x-python",
   "name": "python",
   "nbconvert_exporter": "python",
   "pygments_lexer": "ipython3",
   "version": "3.9.7"
  }
 },
 "nbformat": 4,
 "nbformat_minor": 5
}
