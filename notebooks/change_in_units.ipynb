{
 "cells": [
  {
   "cell_type": "code",
   "execution_count": 2,
   "metadata": {},
   "outputs": [],
   "source": [
    "import pandas as pd"
   ]
  },
  {
   "cell_type": "code",
   "execution_count": 3,
   "metadata": {},
   "outputs": [
    {
     "data": {
      "text/plain": [
       "'/Users/tedu/Workspace/DCP/EDM/embedding/EDDT/db-equitable-development-tool/notebooks'"
      ]
     },
     "execution_count": 3,
     "metadata": {},
     "output_type": "execute_result"
    }
   ],
   "source": [
    "pwd"
   ]
  },
  {
   "cell_type": "code",
   "execution_count": 6,
   "metadata": {},
   "outputs": [
    {
     "data": {
      "text/html": [
       "<div>\n",
       "<style scoped>\n",
       "    .dataframe tbody tr th:only-of-type {\n",
       "        vertical-align: middle;\n",
       "    }\n",
       "\n",
       "    .dataframe tbody tr th {\n",
       "        vertical-align: top;\n",
       "    }\n",
       "\n",
       "    .dataframe thead th {\n",
       "        text-align: right;\n",
       "    }\n",
       "</style>\n",
       "<table border=\"1\" class=\"dataframe\">\n",
       "  <thead>\n",
       "    <tr style=\"text-align: right;\">\n",
       "      <th></th>\n",
       "      <th>PUMA</th>\n",
       "      <th>classa_net_all</th>\n",
       "      <th>classa_net_alteration_decrease</th>\n",
       "      <th>classa_net_alteration_increase</th>\n",
       "      <th>classa_net_demolition</th>\n",
       "      <th>classa_net_new_building</th>\n",
       "      <th>net_change_pct_2010_census_housing_stock_all</th>\n",
       "      <th>net_change_pct_2010_census_housing_stock_alteration_decrease</th>\n",
       "      <th>net_change_pct_2010_census_housing_stock_alteration_increase</th>\n",
       "      <th>net_change_pct_2010_census_housing_stock_demolition</th>\n",
       "      <th>net_change_pct_2010_census_housing_stock_new_building</th>\n",
       "    </tr>\n",
       "  </thead>\n",
       "  <tbody>\n",
       "    <tr>\n",
       "      <th>0</th>\n",
       "      <td>3701</td>\n",
       "      <td>1332.0</td>\n",
       "      <td>-13.0</td>\n",
       "      <td>35.0</td>\n",
       "      <td>-90.0</td>\n",
       "      <td>1400.0</td>\n",
       "      <td>2.90</td>\n",
       "      <td>-0.03</td>\n",
       "      <td>0.08</td>\n",
       "      <td>-0.20</td>\n",
       "      <td>3.04</td>\n",
       "    </tr>\n",
       "    <tr>\n",
       "      <th>1</th>\n",
       "      <td>3702</td>\n",
       "      <td>2281.0</td>\n",
       "      <td>-12.0</td>\n",
       "      <td>112.0</td>\n",
       "      <td>-144.0</td>\n",
       "      <td>2325.0</td>\n",
       "      <td>4.35</td>\n",
       "      <td>-0.02</td>\n",
       "      <td>0.21</td>\n",
       "      <td>-0.27</td>\n",
       "      <td>4.44</td>\n",
       "    </tr>\n",
       "    <tr>\n",
       "      <th>2</th>\n",
       "      <td>3703</td>\n",
       "      <td>855.0</td>\n",
       "      <td>-6.0</td>\n",
       "      <td>78.0</td>\n",
       "      <td>-96.0</td>\n",
       "      <td>879.0</td>\n",
       "      <td>1.70</td>\n",
       "      <td>-0.01</td>\n",
       "      <td>0.16</td>\n",
       "      <td>-0.19</td>\n",
       "      <td>1.75</td>\n",
       "    </tr>\n",
       "    <tr>\n",
       "      <th>3</th>\n",
       "      <td>3704</td>\n",
       "      <td>530.0</td>\n",
       "      <td>-17.0</td>\n",
       "      <td>59.0</td>\n",
       "      <td>-130.0</td>\n",
       "      <td>618.0</td>\n",
       "      <td>1.11</td>\n",
       "      <td>-0.04</td>\n",
       "      <td>0.12</td>\n",
       "      <td>-0.27</td>\n",
       "      <td>1.30</td>\n",
       "    </tr>\n",
       "    <tr>\n",
       "      <th>4</th>\n",
       "      <td>3705</td>\n",
       "      <td>10226.0</td>\n",
       "      <td>-44.0</td>\n",
       "      <td>140.0</td>\n",
       "      <td>-290.0</td>\n",
       "      <td>10420.0</td>\n",
       "      <td>17.90</td>\n",
       "      <td>-0.08</td>\n",
       "      <td>0.25</td>\n",
       "      <td>-0.51</td>\n",
       "      <td>18.24</td>\n",
       "    </tr>\n",
       "  </tbody>\n",
       "</table>\n",
       "</div>"
      ],
      "text/plain": [
       "   PUMA  classa_net_all  classa_net_alteration_decrease  \\\n",
       "0  3701          1332.0                           -13.0   \n",
       "1  3702          2281.0                           -12.0   \n",
       "2  3703           855.0                            -6.0   \n",
       "3  3704           530.0                           -17.0   \n",
       "4  3705         10226.0                           -44.0   \n",
       "\n",
       "   classa_net_alteration_increase  classa_net_demolition  \\\n",
       "0                            35.0                  -90.0   \n",
       "1                           112.0                 -144.0   \n",
       "2                            78.0                  -96.0   \n",
       "3                            59.0                 -130.0   \n",
       "4                           140.0                 -290.0   \n",
       "\n",
       "   classa_net_new_building  net_change_pct_2010_census_housing_stock_all  \\\n",
       "0                   1400.0                                          2.90   \n",
       "1                   2325.0                                          4.35   \n",
       "2                    879.0                                          1.70   \n",
       "3                    618.0                                          1.11   \n",
       "4                  10420.0                                         17.90   \n",
       "\n",
       "   net_change_pct_2010_census_housing_stock_alteration_decrease  \\\n",
       "0                                              -0.03              \n",
       "1                                              -0.02              \n",
       "2                                              -0.01              \n",
       "3                                              -0.04              \n",
       "4                                              -0.08              \n",
       "\n",
       "   net_change_pct_2010_census_housing_stock_alteration_increase  \\\n",
       "0                                               0.08              \n",
       "1                                               0.21              \n",
       "2                                               0.16              \n",
       "3                                               0.12              \n",
       "4                                               0.25              \n",
       "\n",
       "   net_change_pct_2010_census_housing_stock_demolition  \\\n",
       "0                                              -0.20     \n",
       "1                                              -0.27     \n",
       "2                                              -0.19     \n",
       "3                                              -0.27     \n",
       "4                                              -0.51     \n",
       "\n",
       "   net_change_pct_2010_census_housing_stock_new_building  \n",
       "0                                               3.04      \n",
       "1                                               4.44      \n",
       "2                                               1.75      \n",
       "3                                               1.30      \n",
       "4                                              18.24      "
      ]
     },
     "execution_count": 6,
     "metadata": {},
     "output_type": "execute_result"
    }
   ],
   "source": [
    "df = pd.read_csv('/Users/tedu/Workspace/DCP/EDM/embedding/EDDT/db-equitable-development-tool/internal_review/housing_production/puma/unit_change_puma.csv')\n",
    "\n",
    "df.head()"
   ]
  },
  {
   "cell_type": "code",
   "execution_count": 7,
   "metadata": {},
   "outputs": [
    {
     "data": {
      "text/plain": [
       "216525.0"
      ]
     },
     "execution_count": 7,
     "metadata": {},
     "output_type": "execute_result"
    }
   ],
   "source": [
    "df.classa_net_all.sum()"
   ]
  }
 ],
 "metadata": {
  "interpreter": {
   "hash": "aee8b7b246df8f9039afb4144a1f6fd8d2ca17a180786b69acc140d282b71a49"
  },
  "kernelspec": {
   "display_name": "Python 3.9.9 64-bit",
   "language": "python",
   "name": "python3"
  },
  "language_info": {
   "codemirror_mode": {
    "name": "ipython",
    "version": 3
   },
   "file_extension": ".py",
   "mimetype": "text/x-python",
   "name": "python",
   "nbconvert_exporter": "python",
   "pygments_lexer": "ipython3",
   "version": "3.9.10"
  },
  "orig_nbformat": 4
 },
 "nbformat": 4,
 "nbformat_minor": 2
}
