{
 "cells": [
  {
   "cell_type": "markdown",
   "id": "b25429f6",
   "metadata": {},
   "source": [
    "# Rpy2 Test\n",
    "Try this package out, it seems to be the most popular. Instead of calling entire R scripts from the python code this provides a pythonic way to access R packages which will make development easier"
   ]
  },
  {
   "cell_type": "code",
   "execution_count": 1,
   "id": "1a13201b",
   "metadata": {},
   "outputs": [],
   "source": [
    "%reset -f"
   ]
  },
  {
   "cell_type": "code",
   "execution_count": 2,
   "id": "8ea8724f",
   "metadata": {},
   "outputs": [],
   "source": [
    "import rpy2\n",
    "import rpy2.robjects as robjects\n",
    "import rpy2.robjects.packages as rpackages\n",
    "from rpy2.robjects.vectors import StrVector\n",
    "\n",
    "from rpy2.robjects import r, pandas2ri\n",
    "pandas2ri.activate()"
   ]
  },
  {
   "cell_type": "markdown",
   "id": "e6e1d0a9",
   "metadata": {},
   "source": [
    "Note that in python script we will want to use a path based on file code was run from using something more like \n",
    "`dir_path = os.path.dirname(os.path.realpath(__file__))`"
   ]
  },
  {
   "cell_type": "code",
   "execution_count": 3,
   "id": "6cf39f63",
   "metadata": {},
   "outputs": [],
   "source": [
    "import os\n",
    "cwd = os.getcwd()\n",
    "data_dir = cwd.rsplit('/', 1)[0] +'/data'"
   ]
  },
  {
   "cell_type": "code",
   "execution_count": 5,
   "id": "f5ea02ec",
   "metadata": {},
   "outputs": [
    {
     "data": {
      "text/html": [
       "<div>\n",
       "<style scoped>\n",
       "    .dataframe tbody tr th:only-of-type {\n",
       "        vertical-align: middle;\n",
       "    }\n",
       "\n",
       "    .dataframe tbody tr th {\n",
       "        vertical-align: top;\n",
       "    }\n",
       "\n",
       "    .dataframe thead th {\n",
       "        text-align: right;\n",
       "    }\n",
       "</style>\n",
       "<table border=\"1\" class=\"dataframe\">\n",
       "  <thead>\n",
       "    <tr style=\"text-align: right;\">\n",
       "      <th></th>\n",
       "      <th>recid</th>\n",
       "      <th>boro</th>\n",
       "      <th>uf1_1</th>\n",
       "      <th>uf1_3</th>\n",
       "      <th>uf1_4</th>\n",
       "      <th>uf1_5</th>\n",
       "      <th>uf1_6</th>\n",
       "      <th>uf1_7</th>\n",
       "      <th>uf1_8</th>\n",
       "      <th>uf1_9</th>\n",
       "      <th>...</th>\n",
       "      <th>fw74</th>\n",
       "      <th>fw75</th>\n",
       "      <th>fw76</th>\n",
       "      <th>fw77</th>\n",
       "      <th>fw78</th>\n",
       "      <th>fw79</th>\n",
       "      <th>fw80</th>\n",
       "      <th>il30per</th>\n",
       "      <th>il50per</th>\n",
       "      <th>il80per</th>\n",
       "    </tr>\n",
       "  </thead>\n",
       "  <tbody>\n",
       "    <tr>\n",
       "      <th>1</th>\n",
       "      <td>1</td>\n",
       "      <td>1</td>\n",
       "      <td>9</td>\n",
       "      <td>9</td>\n",
       "      <td>9</td>\n",
       "      <td>1</td>\n",
       "      <td>9</td>\n",
       "      <td>9</td>\n",
       "      <td>9</td>\n",
       "      <td>9</td>\n",
       "      <td>...</td>\n",
       "      <td>37635401</td>\n",
       "      <td>33263895</td>\n",
       "      <td>10348898</td>\n",
       "      <td>11446240</td>\n",
       "      <td>32161257</td>\n",
       "      <td>9745805</td>\n",
       "      <td>13739972</td>\n",
       "      <td>21800</td>\n",
       "      <td>36250</td>\n",
       "      <td>58000</td>\n",
       "    </tr>\n",
       "    <tr>\n",
       "      <th>2</th>\n",
       "      <td>1</td>\n",
       "      <td>1</td>\n",
       "      <td>9</td>\n",
       "      <td>9</td>\n",
       "      <td>9</td>\n",
       "      <td>1</td>\n",
       "      <td>9</td>\n",
       "      <td>9</td>\n",
       "      <td>9</td>\n",
       "      <td>9</td>\n",
       "      <td>...</td>\n",
       "      <td>8270628</td>\n",
       "      <td>23614216</td>\n",
       "      <td>42797335</td>\n",
       "      <td>19594333</td>\n",
       "      <td>8525261</td>\n",
       "      <td>36330659</td>\n",
       "      <td>28940264</td>\n",
       "      <td>27200</td>\n",
       "      <td>45300</td>\n",
       "      <td>72500</td>\n",
       "    </tr>\n",
       "    <tr>\n",
       "      <th>3</th>\n",
       "      <td>1</td>\n",
       "      <td>1</td>\n",
       "      <td>9</td>\n",
       "      <td>9</td>\n",
       "      <td>9</td>\n",
       "      <td>1</td>\n",
       "      <td>9</td>\n",
       "      <td>9</td>\n",
       "      <td>9</td>\n",
       "      <td>9</td>\n",
       "      <td>...</td>\n",
       "      <td>8270628</td>\n",
       "      <td>23614216</td>\n",
       "      <td>42797335</td>\n",
       "      <td>19594333</td>\n",
       "      <td>8525261</td>\n",
       "      <td>36330659</td>\n",
       "      <td>28940264</td>\n",
       "      <td>24500</td>\n",
       "      <td>40800</td>\n",
       "      <td>65250</td>\n",
       "    </tr>\n",
       "    <tr>\n",
       "      <th>4</th>\n",
       "      <td>1</td>\n",
       "      <td>1</td>\n",
       "      <td>9</td>\n",
       "      <td>9</td>\n",
       "      <td>9</td>\n",
       "      <td>1</td>\n",
       "      <td>9</td>\n",
       "      <td>9</td>\n",
       "      <td>9</td>\n",
       "      <td>9</td>\n",
       "      <td>...</td>\n",
       "      <td>35934838</td>\n",
       "      <td>10027288</td>\n",
       "      <td>46175949</td>\n",
       "      <td>57167298</td>\n",
       "      <td>43401081</td>\n",
       "      <td>10664017</td>\n",
       "      <td>66729558</td>\n",
       "      <td>21800</td>\n",
       "      <td>36250</td>\n",
       "      <td>58000</td>\n",
       "    </tr>\n",
       "    <tr>\n",
       "      <th>5</th>\n",
       "      <td>1</td>\n",
       "      <td>1</td>\n",
       "      <td>9</td>\n",
       "      <td>9</td>\n",
       "      <td>9</td>\n",
       "      <td>1</td>\n",
       "      <td>9</td>\n",
       "      <td>9</td>\n",
       "      <td>9</td>\n",
       "      <td>9</td>\n",
       "      <td>...</td>\n",
       "      <td>50290497</td>\n",
       "      <td>10630692</td>\n",
       "      <td>32310018</td>\n",
       "      <td>70148673</td>\n",
       "      <td>42706530</td>\n",
       "      <td>10137630</td>\n",
       "      <td>64932695</td>\n",
       "      <td>21800</td>\n",
       "      <td>36250</td>\n",
       "      <td>58000</td>\n",
       "    </tr>\n",
       "  </tbody>\n",
       "</table>\n",
       "<p>5 rows × 269 columns</p>\n",
       "</div>"
      ],
      "text/plain": [
       "   recid  boro  uf1_1  uf1_3  uf1_4  uf1_5  uf1_6  uf1_7  uf1_8  uf1_9  ...  \\\n",
       "1      1     1      9      9      9      1      9      9      9      9  ...   \n",
       "2      1     1      9      9      9      1      9      9      9      9  ...   \n",
       "3      1     1      9      9      9      1      9      9      9      9  ...   \n",
       "4      1     1      9      9      9      1      9      9      9      9  ...   \n",
       "5      1     1      9      9      9      1      9      9      9      9  ...   \n",
       "\n",
       "       fw74      fw75      fw76      fw77      fw78      fw79      fw80  \\\n",
       "1  37635401  33263895  10348898  11446240  32161257   9745805  13739972   \n",
       "2   8270628  23614216  42797335  19594333   8525261  36330659  28940264   \n",
       "3   8270628  23614216  42797335  19594333   8525261  36330659  28940264   \n",
       "4  35934838  10027288  46175949  57167298  43401081  10664017  66729558   \n",
       "5  50290497  10630692  32310018  70148673  42706530  10137630  64932695   \n",
       "\n",
       "   il30per  il50per  il80per  \n",
       "1    21800    36250    58000  \n",
       "2    27200    45300    72500  \n",
       "3    24500    40800    65250  \n",
       "4    21800    36250    58000  \n",
       "5    21800    36250    58000  \n",
       "\n",
       "[5 rows x 269 columns]"
      ]
     },
     "execution_count": 5,
     "metadata": {},
     "output_type": "execute_result"
    }
   ],
   "source": [
    "\n",
    "data = robjects.r(f'read.csv(\"{data_dir}/HVS_data.csv\", header=TRUE)')\n",
    "data.head()"
   ]
  },
  {
   "cell_type": "code",
   "execution_count": 6,
   "id": "4ed37fa9",
   "metadata": {},
   "outputs": [
    {
     "data": {
      "text/plain": [
       "pandas.core.frame.DataFrame"
      ]
     },
     "execution_count": 6,
     "metadata": {},
     "output_type": "execute_result"
    }
   ],
   "source": [
    "type(data)"
   ]
  },
  {
   "cell_type": "markdown",
   "id": "ba7736a6",
   "metadata": {},
   "source": [
    "Ok sick could load in pandas from .pkl to see if they match?  Save that for later I think"
   ]
  },
  {
   "cell_type": "markdown",
   "id": "7681ccdb",
   "metadata": {},
   "source": [
    "For now do data cleaning in python instead of R"
   ]
  },
  {
   "cell_type": "code",
   "execution_count": 7,
   "id": "43bfa9dd",
   "metadata": {},
   "outputs": [],
   "source": [
    "weights_correction = 10**5\n",
    "data['fw'] = data['fw']/weights_correction"
   ]
  },
  {
   "cell_type": "code",
   "execution_count": 8,
   "id": "8aa7226b",
   "metadata": {},
   "outputs": [],
   "source": [
    "rep_weights_columns = [f'fw{i}' for i in range(1,81)]\n",
    "data[rep_weights_columns] = data[rep_weights_columns]/weights_correction"
   ]
  },
  {
   "cell_type": "markdown",
   "id": "8cd1a480",
   "metadata": {},
   "source": [
    "Add occupancy final column"
   ]
  },
  {
   "cell_type": "code",
   "execution_count": 9,
   "id": "dc692466",
   "metadata": {},
   "outputs": [],
   "source": [
    "data['occ_final'] = data['recid']==1"
   ]
  },
  {
   "cell_type": "markdown",
   "id": "7d66c214",
   "metadata": {},
   "source": [
    "Use survey package"
   ]
  },
  {
   "cell_type": "code",
   "execution_count": 10,
   "id": "c703f155",
   "metadata": {},
   "outputs": [],
   "source": [
    "survey_package = rpackages.importr('survey')\n",
    "base = rpackages.importr('base')"
   ]
  },
  {
   "cell_type": "code",
   "execution_count": 11,
   "id": "7b06c233",
   "metadata": {},
   "outputs": [],
   "source": [
    "survey_package = rpackages.importr('survey')\n",
    "hu_design = survey_package.svrepdesign(variables=data.iloc[:, :188],\n",
    "                          repweights=data[rep_weights_columns],\n",
    "                          weights=data['fw'], combined_weights = True, type='other',\n",
    "                         scale=4/80, rscales=1)"
   ]
  },
  {
   "cell_type": "code",
   "execution_count": 13,
   "id": "49b39137",
   "metadata": {},
   "outputs": [],
   "source": [
    "occ_subset = base.subset(hu_design, data['occ_final']==1)\n",
    "survey_total = survey_package.svytotal(data['occ_final'], design=occ_subset)\n"
   ]
  },
  {
   "cell_type": "code",
   "execution_count": 14,
   "id": "789f3f8f",
   "metadata": {},
   "outputs": [
    {
     "data": {
      "text/plain": [
       "array([3109954.62348])"
      ]
     },
     "execution_count": 14,
     "metadata": {},
     "output_type": "execute_result"
    }
   ],
   "source": [
    "survey_total"
   ]
  },
  {
   "cell_type": "code",
   "execution_count": 17,
   "id": "7d07ec0e",
   "metadata": {},
   "outputs": [
    {
     "data": {
      "text/html": [
       "<div>\n",
       "<style scoped>\n",
       "    .dataframe tbody tr th:only-of-type {\n",
       "        vertical-align: middle;\n",
       "    }\n",
       "\n",
       "    .dataframe tbody tr th {\n",
       "        vertical-align: top;\n",
       "    }\n",
       "\n",
       "    .dataframe thead th {\n",
       "        text-align: right;\n",
       "    }\n",
       "</style>\n",
       "<table border=\"1\" class=\"dataframe\">\n",
       "  <thead>\n",
       "    <tr style=\"text-align: right;\">\n",
       "      <th></th>\n",
       "      <th>occ_final</th>\n",
       "    </tr>\n",
       "  </thead>\n",
       "  <tbody>\n",
       "    <tr>\n",
       "      <th>1</th>\n",
       "      <td>True</td>\n",
       "    </tr>\n",
       "    <tr>\n",
       "      <th>2</th>\n",
       "      <td>True</td>\n",
       "    </tr>\n",
       "    <tr>\n",
       "      <th>3</th>\n",
       "      <td>True</td>\n",
       "    </tr>\n",
       "    <tr>\n",
       "      <th>4</th>\n",
       "      <td>True</td>\n",
       "    </tr>\n",
       "    <tr>\n",
       "      <th>5</th>\n",
       "      <td>True</td>\n",
       "    </tr>\n",
       "    <tr>\n",
       "      <th>...</th>\n",
       "      <td>...</td>\n",
       "    </tr>\n",
       "    <tr>\n",
       "      <th>13262</th>\n",
       "      <td>True</td>\n",
       "    </tr>\n",
       "    <tr>\n",
       "      <th>13263</th>\n",
       "      <td>True</td>\n",
       "    </tr>\n",
       "    <tr>\n",
       "      <th>13264</th>\n",
       "      <td>True</td>\n",
       "    </tr>\n",
       "    <tr>\n",
       "      <th>13265</th>\n",
       "      <td>True</td>\n",
       "    </tr>\n",
       "    <tr>\n",
       "      <th>13266</th>\n",
       "      <td>True</td>\n",
       "    </tr>\n",
       "  </tbody>\n",
       "</table>\n",
       "<p>13266 rows × 1 columns</p>\n",
       "</div>"
      ],
      "text/plain": [
       "       occ_final\n",
       "1           True\n",
       "2           True\n",
       "3           True\n",
       "4           True\n",
       "5           True\n",
       "...          ...\n",
       "13262       True\n",
       "13263       True\n",
       "13264       True\n",
       "13265       True\n",
       "13266       True\n",
       "\n",
       "[13266 rows x 1 columns]"
      ]
     },
     "execution_count": 17,
     "metadata": {},
     "output_type": "execute_result"
    }
   ],
   "source": [
    "data[['occ_final']]"
   ]
  },
  {
   "cell_type": "markdown",
   "id": "a293d784",
   "metadata": {},
   "source": [
    "Ok correct total but no standard error. Close but not there yet. What happens when we group by sub borough area?"
   ]
  },
  {
   "cell_type": "code",
   "execution_count": null,
   "id": "ec451355",
   "metadata": {},
   "outputs": [],
   "source": [
    "by_sub_borough_area = survey_package.svyby(formula=data['occ_final'], by=data[['boro','cd']], \n",
    "                                           design=hu_design, FUN=survey_package.svytotal)"
   ]
  },
  {
   "cell_type": "markdown",
   "id": "b9b57d28",
   "metadata": {},
   "source": [
    "Ok same measurements of total housing units as R but different standard errors. "
   ]
  },
  {
   "cell_type": "code",
   "execution_count": 23,
   "id": "6b079802",
   "metadata": {},
   "outputs": [
    {
     "data": {
      "text/plain": [
       "True"
      ]
     },
     "execution_count": 23,
     "metadata": {},
     "output_type": "execute_result"
    }
   ],
   "source": [
    "import numpy as np\n",
    "np.isclose(by_sub_borough_area['V1'].sum(), survey_total[0])"
   ]
  },
  {
   "cell_type": "markdown",
   "id": "3f957eec",
   "metadata": {},
   "source": [
    "Try and get SE by grouping by a column with single value. Jank but helpful to double check"
   ]
  },
  {
   "cell_type": "code",
   "execution_count": 25,
   "id": "8ed1da52",
   "metadata": {},
   "outputs": [],
   "source": [
    "data['a'] = 'a'"
   ]
  },
  {
   "cell_type": "code",
   "execution_count": 26,
   "id": "6792cae4",
   "metadata": {},
   "outputs": [
    {
     "data": {
      "text/html": [
       "<div>\n",
       "<style scoped>\n",
       "    .dataframe tbody tr th:only-of-type {\n",
       "        vertical-align: middle;\n",
       "    }\n",
       "\n",
       "    .dataframe tbody tr th {\n",
       "        vertical-align: top;\n",
       "    }\n",
       "\n",
       "    .dataframe thead th {\n",
       "        text-align: right;\n",
       "    }\n",
       "</style>\n",
       "<table border=\"1\" class=\"dataframe\">\n",
       "  <thead>\n",
       "    <tr style=\"text-align: right;\">\n",
       "      <th></th>\n",
       "      <th>by</th>\n",
       "      <th>V1</th>\n",
       "      <th>se</th>\n",
       "    </tr>\n",
       "  </thead>\n",
       "  <tbody>\n",
       "    <tr>\n",
       "      <th>a</th>\n",
       "      <td>a</td>\n",
       "      <td>3.109955e+06</td>\n",
       "      <td>8611.514099</td>\n",
       "    </tr>\n",
       "  </tbody>\n",
       "</table>\n",
       "</div>"
      ],
      "text/plain": [
       "  by            V1           se\n",
       "a  a  3.109955e+06  8611.514099"
      ]
     },
     "execution_count": 26,
     "metadata": {},
     "output_type": "execute_result"
    }
   ],
   "source": [
    "survey_total_with_se = survey_package.svyby(formula=data['occ_final'], by=data['a'], \n",
    "                                           design=hu_design, FUN=survey_package.svytotal)\n",
    "survey_total_with_se"
   ]
  },
  {
   "cell_type": "markdown",
   "id": "bc2558f9",
   "metadata": {},
   "source": [
    "Matches page 47 of [official guide to calculating variances](https://www2.census.gov/programs-surveys/nychvs/technical-documentation/variances/2017-NYCHVS-Guide-to-Estimating-Variances.pdf), looks good"
   ]
  },
  {
   "cell_type": "code",
   "execution_count": null,
   "id": "57ff3573",
   "metadata": {},
   "outputs": [],
   "source": []
  }
 ],
 "metadata": {
  "kernelspec": {
   "display_name": "Python 3 (ipykernel)",
   "language": "python",
   "name": "python3"
  },
  "language_info": {
   "codemirror_mode": {
    "name": "ipython",
    "version": 3
   },
   "file_extension": ".py",
   "mimetype": "text/x-python",
   "name": "python",
   "nbconvert_exporter": "python",
   "pygments_lexer": "ipython3",
   "version": "3.9.7"
  }
 },
 "nbformat": 4,
 "nbformat_minor": 5
}
